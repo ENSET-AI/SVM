{
 "cells": [
  {
   "cell_type": "markdown",
   "id": "ba767293103af076",
   "metadata": {
    "collapsed": false
   },
   "source": [
    "# Importation des bibliothèques nécessaires"
   ]
  },
  {
   "cell_type": "code",
   "execution_count": null,
   "id": "ddd60ab8e94001ee",
   "metadata": {
    "collapsed": false
   },
   "outputs": [],
   "source": [
    "import numpy as np\n",
    "import matplotlib.pyplot as plt\n",
    "from sklearn import datasets\n",
    "from sklearn.model_selection import train_test_split\n",
    "from sklearn.svm import SVC\n",
    "from sklearn.metrics import classification_report, accuracy_score\n",
    "from mlxtend.plotting import plot_decision_regions"
   ]
  },
  {
   "cell_type": "markdown",
   "id": "ee62e495b48277e0",
   "metadata": {
    "collapsed": false
   },
   "source": [
    "# Charger l'ensemble de données Iris"
   ]
  },
  {
   "cell_type": "code",
   "execution_count": null,
   "id": "b95aaad1fc77114c",
   "metadata": {
    "collapsed": false
   },
   "outputs": [],
   "source": [
    "iris = datasets.load_iris()\n",
    "X = iris.data[:, :2]  # On prend seulement les 2 premières caractéristiques pour affichage\n",
    "y = iris.target\n",
    "\n",
    "# Diviser les données en ensemble d'entraînement et de test\n",
    "X_train, X_test, y_train, y_test = train_test_split(X, y, test_size=0.3, random_state=42)"
   ]
  },
  {
   "cell_type": "markdown",
   "id": "17ba6eb6b3cf603",
   "metadata": {
    "collapsed": false
   },
   "source": [
    "# Créer un modèle SVM avec un noyau linéaire"
   ]
  },
  {
   "cell_type": "code",
   "execution_count": null,
   "id": "e50d4cc929d64d3f",
   "metadata": {
    "collapsed": false
   },
   "outputs": [],
   "source": [
    "model = SVC(kernel='linear', random_state=42)\n",
    "\n",
    "# Entraîner le modèle\n",
    "model.fit(X_train, y_train)\n",
    "\n",
    "# Prédire sur les données de test\n",
    "y_pred = model.predict(X_test)\n",
    "\n",
    "# Évaluer le modèle\n",
    "print(\"Accuracy:\", accuracy_score(y_test, y_pred))\n",
    "print(\"Classification Report:\\n\", classification_report(y_test, y_pred))"
   ]
  },
  {
   "cell_type": "markdown",
   "id": "484ad0f09c94cf6b",
   "metadata": {
    "collapsed": false
   },
   "source": [
    "# Visualisation des frontières de décision"
   ]
  },
  {
   "cell_type": "code",
   "execution_count": null,
   "id": "91cdbf0f6b6e7891",
   "metadata": {
    "collapsed": false
   },
   "outputs": [],
   "source": [
    "plt.figure(figsize=(8, 6))\n",
    "plot_decision_regions(X_train, y_train, clf=model, legend=2)\n",
    "plt.title(\"Frontière de décision du SVM (noyau linéaire)\")\n",
    "plt.xlabel(iris.feature_names[0])  # Nom de la première caractéristique\n",
    "plt.ylabel(iris.feature_names[1])  # Nom de la deuxième caractéristique\n",
    "plt.show()"
   ]
  },
  {
   "cell_type": "code",
   "execution_count": null,
   "id": "5b4f8475",
   "metadata": {},
   "outputs": [],
   "source": []
  }
 ],
 "metadata": {
  "kernelspec": {
   "display_name": "Python 3",
   "language": "python",
   "name": "python3"
  },
  "language_info": {
   "codemirror_mode": {
    "name": "ipython",
    "version": 2
   },
   "file_extension": ".py",
   "mimetype": "text/x-python",
   "name": "python",
   "nbconvert_exporter": "python",
   "pygments_lexer": "ipython2",
   "version": "2.7.6"
  }
 },
 "nbformat": 4,
 "nbformat_minor": 5
}
